{
 "cells": [
  {
   "cell_type": "markdown",
   "metadata": {},
   "source": [
    "# Correlation & Covariance"
   ]
  },
  {
   "cell_type": "markdown",
   "metadata": {},
   "source": [
    "Finding the correlation matrix of features is a significant part of exploratory data analysis (EDA) in machine learning problems. Before learning about correlation we need to know about covariance."
   ]
  },
  {
   "cell_type": "markdown",
   "metadata": {},
   "source": [
    "Covariance is a statistical measure to find the relationship between two variables. It assumes a linear model between the participating quantities. \n",
    "\n",
    "Let C = covariance(x, y) then:\n",
    "- If C > 1: increasing x -> increasing y, vice versa\n",
    "- If C = 0: x and y are unrelated\n",
    "- If C < 1: increasing x -> decreasing y, vice versa\n"
   ]
  },
  {
   "cell_type": "markdown",
   "metadata": {},
   "source": [
    "# Datagen\n",
    "Lets create 100 data points\n",
    "\n",
    "\n",
    "Y is linearly related to X\n",
    "\n",
    "\n",
    "Z is inversely related to X\n",
    "\n",
    "\n",
    "W is yet another random array not related to X at all"
   ]
  },
  {
   "cell_type": "code",
   "execution_count": null,
   "metadata": {},
   "outputs": [],
   "source": [
    "import numpy as np\n",
    "import matplotlib.pyplot as plt"
   ]
  },
  {
   "cell_type": "code",
   "execution_count": null,
   "metadata": {},
   "outputs": [],
   "source": [
    "X = np.random.randint(1, 500, 100)"
   ]
  },
  {
   "cell_type": "code",
   "execution_count": null,
   "metadata": {},
   "outputs": [],
   "source": [
    "noise = np.random.randint(1, 500, 100)\n",
    "seed = 5\n",
    "Y = seed * X + noise"
   ]
  },
  {
   "cell_type": "code",
   "execution_count": null,
   "metadata": {},
   "outputs": [],
   "source": [
    "noise = np.random.randint(1, 500, 100)\n",
    "seed = 5\n",
    "Z = X - seed * X + noise"
   ]
  },
  {
   "cell_type": "code",
   "execution_count": null,
   "metadata": {},
   "outputs": [],
   "source": [
    "W = np.random.randint(1, 500, 100)"
   ]
  },
  {
   "cell_type": "markdown",
   "metadata": {},
   "source": [
    "# Covariance\n",
    "The statistical formula for covariance is:\n",
    "![](https://i.imgur.com/cnJESII.png)\n",
    "Lets test it empirically"
   ]
  },
  {
   "cell_type": "code",
   "execution_count": null,
   "metadata": {},
   "outputs": [],
   "source": [
    "def covariance(X, Y):\n",
    "    x_prime, y_prime = np.mean(X), np.mean(Y)\n",
    "    prod = 0\n",
    "    for x, y in zip(X, Y):\n",
    "        prod += (x - x_prime) * (y - y_prime)\n",
    "    return prod/(len(X))        "
   ]
  },
  {
   "cell_type": "code",
   "execution_count": null,
   "metadata": {},
   "outputs": [],
   "source": [
    "covariance(X, Y)"
   ]
  },
  {
   "cell_type": "code",
   "execution_count": 8,
   "metadata": {},
   "outputs": [],
   "source": [
    "covariance(X, Z)"
   ]
  },
  {
   "cell_type": "code",
   "execution_count": 9,
   "metadata": {},
   "outputs": [
    {
     "data": {
      "text/plain": [
       "-2464.1679999999997"
      ]
     },
     "execution_count": 9,
     "metadata": {},
     "output_type": "execute_result"
    }
   ],
   "source": [
    "covariance(X, W)"
   ]
  },
  {
   "cell_type": "markdown",
   "metadata": {},
   "source": [
    "Covariance between X and Y is positive. \n",
    "\n",
    "\n",
    "Covariance between X and Z is negative.\n",
    "\n",
    "\n",
    "Covariance between X and W is closer to zero (compared to above two)."
   ]
  },
  {
   "cell_type": "markdown",
   "metadata": {},
   "source": [
    "The plots for the above arrays show this:"
   ]
  },
  {
   "cell_type": "code",
   "execution_count": 10,
   "metadata": {},
   "outputs": [
    {
     "data": {
      "image/png": "[encoded data removed]",
      "text/plain": [
       "<Figure size 432x288 with 1 Axes>"
      ]
     },
     "metadata": {
      "needs_background": "light"
     },
     "output_type": "display_data"
    }
   ],
   "source": [
    "plt.scatter(X, Y, s=19, marker='.')\n",
    "plt.scatter(X, Z, s=19, marker='+')\n",
    "plt.scatter(X, W, s=9, marker='D')\n",
    "plt.show()"
   ]
  },
  {
   "cell_type": "markdown",
   "metadata": {},
   "source": [
    "# Correlation\n"
   ]
  },
  {
   "cell_type": "markdown",
   "metadata": {},
   "source": [
    "The major problem with covariance is interpretation. The only interpretation that covariance offers lies in it being positive or negative. We don't know the degree to which a variable varies with other. For this we introduce another metric called correlation. \n",
    "![](https://i.imgur.com/YLY5DyX.png)\n",
    "σ = standard deviation\n",
    "\n",
    "\n",
    "Like covariance, correlation can be interpreted as:\n",
    "\n",
    "\n",
    "Let C = correlation(x, y) then:\n",
    "- If C > 1: increasing x -> increasing y, vice versa\n",
    "- If C = 0: x and y are unrelated\n",
    "- If C < 1: increasing x -> decreasing y, vice versa\n",
    "\n",
    "Additionally, C ∈ [-1,1]\n",
    "- C = 1 very high linearly direct relation \n",
    "- C = -1 very high linearly inverse relation\n",
    "- C = 0 no relation\n",
    "\n",
    "\n",
    "let's test it empirically"
   ]
  },
  {
   "cell_type": "markdown",
   "metadata": {},
   "source": [
    "Y_1 is highly +ve correlated (low noise) to X\n",
    "\n",
    "\n",
    "Y_2 is less +ve correlated (high noise) to X\n",
    "\n",
    "\n",
    "Z_1 is highly -ve correlated (low noise) to X\n",
    "\n",
    "\n",
    "Z_2 is less -ve correlated (high noise) to X\n",
    "\n",
    "\n",
    "W is not correlated to X at all\n"
   ]
  },
  {
   "cell_type": "code",
   "execution_count": 11,
   "metadata": {},
   "outputs": [],
   "source": [
    "X = np.random.randint(1, 500, 100)\n",
    "low_noise = np.random.randint(1, 10, 100)\n",
    "high_noise = np.random.randint(1, 10000, 100)"
   ]
  },
  {
   "cell_type": "code",
   "execution_count": 12,
   "metadata": {},
   "outputs": [],
   "source": [
    "seed = 5\n",
    "Y_1 =  X * seed + low_noise\n",
    "Y_2 =  X * seed + high_noise\n",
    "Z_1 = X - seed * X + low_noise\n",
    "Z_2 = X - seed * X + high_noise\n",
    "W = np.random.randint(1, 500, 100)"
   ]
  },
  {
   "cell_type": "code",
   "execution_count": 13,
   "metadata": {},
   "outputs": [],
   "source": [
    "def correlation(X, Y):\n",
    "    sigma_x, sigma_y = np.std(X), np.std(Y)\n",
    "    return covariance(X, Y) / (sigma_x * sigma_y)"
   ]
  },
  {
   "cell_type": "code",
   "execution_count": 14,
   "metadata": {},
   "outputs": [
    {
     "data": {
      "text/plain": [
       "0.9999934454374622"
      ]
     },
     "execution_count": 14,
     "metadata": {},
     "output_type": "execute_result"
    }
   ],
   "source": [
    "correlation(X, Y_1)"
   ]
  },
  {
   "cell_type": "code",
   "execution_count": 15,
   "metadata": {},
   "outputs": [
    {
     "data": {
      "text/plain": [
       "0.3113149172262194"
      ]
     },
     "execution_count": 15,
     "metadata": {},
     "output_type": "execute_result"
    }
   ],
   "source": [
    "correlation(X, Y_2)"
   ]
  },
  {
   "cell_type": "code",
   "execution_count": 16,
   "metadata": {},
   "outputs": [
    {
     "data": {
      "text/plain": [
       "-0.9999897395130402"
      ]
     },
     "execution_count": 16,
     "metadata": {},
     "output_type": "execute_result"
    }
   ],
   "source": [
    "correlation(X, Z_1)"
   ]
  },
  {
   "cell_type": "code",
   "execution_count": 17,
   "metadata": {},
   "outputs": [
    {
     "data": {
      "text/plain": [
       "-0.10033999421188486"
      ]
     },
     "execution_count": 17,
     "metadata": {},
     "output_type": "execute_result"
    }
   ],
   "source": [
    "correlation(X, Z_2)"
   ]
  },
  {
   "cell_type": "code",
   "execution_count": 18,
   "metadata": {},
   "outputs": [
    {
     "data": {
      "image/png": "[encoded data removed]",
      "text/plain": [
       "<Figure size 432x288 with 1 Axes>"
      ]
     },
     "metadata": {
      "needs_background": "light"
     },
     "output_type": "display_data"
    }
   ],
   "source": [
    "plt.scatter(X, Y_1, marker='.')\n",
    "plt.scatter(X, Y_2, marker='x')\n",
    "plt.scatter(X, Z_1, marker='+')\n",
    "plt.scatter(X, Z_2, marker='D')\n",
    "plt.show()"
   ]
  },
  {
   "cell_type": "markdown",
   "metadata": {},
   "source": [
    "The results above are exactly as predicted"
   ]
  },
  {
   "cell_type": "markdown",
   "metadata": {},
   "source": [
    "# Significance in machine learning"
   ]
  },
  {
   "cell_type": "markdown",
   "metadata": {},
   "source": [
    "Correlation is an important metric for EDA. \n",
    "\n",
    "\n",
    "Two highly correlated features (value near -1 or 1) are redundant. One of them can be safely dropped.\n",
    "Generally, a value greater than 0.5 and less than -0.5 is considered pretty correlated.\n",
    "\n",
    "\n",
    "In case of supervised learning, features correlated with the target or dependent variable are important features. \n",
    "\n",
    "\n",
    "Sometimes features highly uncorrelated with target variable are dropped but this should be avoided because correlation assumes a linear relationship between participating features which often is not the case."
   ]
  }
 ],
 "metadata": {
  "kernelspec": {
   "display_name": "Python 3",
   "language": "python",
   "name": "python3"
  },
  "language_info": {
   "codemirror_mode": {
    "name": "ipython",
    "version": 3
   },
   "file_extension": ".py",
   "mimetype": "text/x-python",
   "name": "python",
   "nbconvert_exporter": "python",
   "pygments_lexer": "ipython3",
   "version": "3.7.1"
  }
 },
 "nbformat": 4,
 "nbformat_minor": 2
}
