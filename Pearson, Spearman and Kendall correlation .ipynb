{
 "cells": [
  {
   "cell_type": "markdown",
   "metadata": {},
   "source": [
    "# Types of correlations:\n",
    "### 1. Pearson\n",
    "- Finds linear correlation\n",
    "- Non monotonic dependent variables like x=y^2 (x belong to -1 to 1) can have 0 Pearson correlation\n",
    "![](https://i.imgur.com/4bDj7QP.png)\n",
    "### 2. Spearman\n",
    "- Has same problem, for non monotonic dependent variables it too can be zero\n",
    "- But since it works on ranks, it works well with non-linear relations like x=y^2 fir positive x\n",
    "![](https://i.imgur.com/FZIDVNQ.png)\n",
    "### 3. Kendall\n",
    "- Denoted with τ (Tau)\n",
    "- Has same problem, for non monotonic dependent variables it too can be zero\n",
    "- for a pair of ranks (Xi, Xj), (Yi, Yj) they can be:\n",
    "    - **Concordant**: (Xi-Xj)(Yi-Yj) > 0\n",
    "    - **Discordant**: (Xi-Xj)(Yi-Yj) < 0\n",
    "![](https://i.imgur.com/wjCk5Zr.png)"
   ]
  },
  {
   "cell_type": "markdown",
   "metadata": {},
   "source": [
    "# Imports"
   ]
  },
  {
   "cell_type": "code",
   "execution_count": 1,
   "metadata": {},
   "outputs": [],
   "source": [
    "import pandas as pd\n",
    "import numpy as np\n",
    "import matplotlib.pyplot as plt\n",
    "import seaborn as sns\n",
    "import sklearn"
   ]
  },
  {
   "cell_type": "markdown",
   "metadata": {},
   "source": [
    "# Make data"
   ]
  },
  {
   "cell_type": "code",
   "execution_count": 2,
   "metadata": {},
   "outputs": [
    {
     "data": {
      "text/html": [
       "<div>\n",
       "<style scoped>\n",
       "    .dataframe tbody tr th:only-of-type {\n",
       "        vertical-align: middle;\n",
       "    }\n",
       "\n",
       "    .dataframe tbody tr th {\n",
       "        vertical-align: top;\n",
       "    }\n",
       "\n",
       "    .dataframe thead th {\n",
       "        text-align: right;\n",
       "    }\n",
       "</style>\n",
       "<table border=\"1\" class=\"dataframe\">\n",
       "  <thead>\n",
       "    <tr style=\"text-align: right;\">\n",
       "      <th></th>\n",
       "      <th>y</th>\n",
       "      <th>z</th>\n",
       "    </tr>\n",
       "  </thead>\n",
       "  <tbody>\n",
       "    <tr>\n",
       "      <th>0</th>\n",
       "      <td>77</td>\n",
       "      <td>169</td>\n",
       "    </tr>\n",
       "    <tr>\n",
       "      <th>1</th>\n",
       "      <td>-10</td>\n",
       "      <td>-28</td>\n",
       "    </tr>\n",
       "    <tr>\n",
       "      <th>2</th>\n",
       "      <td>-27</td>\n",
       "      <td>-8</td>\n",
       "    </tr>\n",
       "    <tr>\n",
       "      <th>3</th>\n",
       "      <td>-20</td>\n",
       "      <td>-87</td>\n",
       "    </tr>\n",
       "    <tr>\n",
       "      <th>4</th>\n",
       "      <td>55</td>\n",
       "      <td>75</td>\n",
       "    </tr>\n",
       "  </tbody>\n",
       "</table>\n",
       "</div>"
      ],
      "text/plain": [
       "    y    z\n",
       "0  77  169\n",
       "1 -10  -28\n",
       "2 -27   -8\n",
       "3 -20  -87\n",
       "4  55   75"
      ]
     },
     "execution_count": 2,
     "metadata": {},
     "output_type": "execute_result"
    }
   ],
   "source": [
    "# linear\n",
    "y = np.random.randint(-100, 100, 500)\n",
    "z = 2*y + np.random.randint(-50, 50, 500)\n",
    "X1 = pd.DataFrame({\n",
    "                                'y':y,\n",
    "                                'z':z,\n",
    "        }, index=np.arange(len(y)))\n",
    "X1.head()"
   ]
  },
  {
   "cell_type": "code",
   "execution_count": 3,
   "metadata": {},
   "outputs": [
    {
     "data": {
      "text/html": [
       "<div>\n",
       "<style scoped>\n",
       "    .dataframe tbody tr th:only-of-type {\n",
       "        vertical-align: middle;\n",
       "    }\n",
       "\n",
       "    .dataframe tbody tr th {\n",
       "        vertical-align: top;\n",
       "    }\n",
       "\n",
       "    .dataframe thead th {\n",
       "        text-align: right;\n",
       "    }\n",
       "</style>\n",
       "<table border=\"1\" class=\"dataframe\">\n",
       "  <thead>\n",
       "    <tr style=\"text-align: right;\">\n",
       "      <th></th>\n",
       "      <th>y</th>\n",
       "      <th>z</th>\n",
       "    </tr>\n",
       "  </thead>\n",
       "  <tbody>\n",
       "    <tr>\n",
       "      <th>0</th>\n",
       "      <td>5</td>\n",
       "      <td>-0.958924</td>\n",
       "    </tr>\n",
       "    <tr>\n",
       "      <th>1</th>\n",
       "      <td>7</td>\n",
       "      <td>0.656987</td>\n",
       "    </tr>\n",
       "    <tr>\n",
       "      <th>2</th>\n",
       "      <td>1</td>\n",
       "      <td>0.841471</td>\n",
       "    </tr>\n",
       "    <tr>\n",
       "      <th>3</th>\n",
       "      <td>-3</td>\n",
       "      <td>-0.141120</td>\n",
       "    </tr>\n",
       "    <tr>\n",
       "      <th>4</th>\n",
       "      <td>-2</td>\n",
       "      <td>-0.909297</td>\n",
       "    </tr>\n",
       "  </tbody>\n",
       "</table>\n",
       "</div>"
      ],
      "text/plain": [
       "   y         z\n",
       "0  5 -0.958924\n",
       "1  7  0.656987\n",
       "2  1  0.841471\n",
       "3 -3 -0.141120\n",
       "4 -2 -0.909297"
      ]
     },
     "execution_count": 3,
     "metadata": {},
     "output_type": "execute_result"
    }
   ],
   "source": [
    "# non-monotonic\n",
    "y = np.random.randint(-10, 10, 500)\n",
    "z = np.sin(y)\n",
    "X_non_monotonic = pd.DataFrame({\n",
    "                                'y':y,\n",
    "                                'z':z,\n",
    "        }, index=np.arange(len(y)))\n",
    "X_non_monotonic.head()"
   ]
  },
  {
   "cell_type": "code",
   "execution_count": 4,
   "metadata": {},
   "outputs": [
    {
     "data": {
      "text/html": [
       "<div>\n",
       "<style scoped>\n",
       "    .dataframe tbody tr th:only-of-type {\n",
       "        vertical-align: middle;\n",
       "    }\n",
       "\n",
       "    .dataframe tbody tr th {\n",
       "        vertical-align: top;\n",
       "    }\n",
       "\n",
       "    .dataframe thead th {\n",
       "        text-align: right;\n",
       "    }\n",
       "</style>\n",
       "<table border=\"1\" class=\"dataframe\">\n",
       "  <thead>\n",
       "    <tr style=\"text-align: right;\">\n",
       "      <th></th>\n",
       "      <th>y</th>\n",
       "      <th>z</th>\n",
       "    </tr>\n",
       "  </thead>\n",
       "  <tbody>\n",
       "    <tr>\n",
       "      <th>0</th>\n",
       "      <td>4</td>\n",
       "      <td>1048576</td>\n",
       "    </tr>\n",
       "    <tr>\n",
       "      <th>1</th>\n",
       "      <td>1</td>\n",
       "      <td>1</td>\n",
       "    </tr>\n",
       "    <tr>\n",
       "      <th>2</th>\n",
       "      <td>13</td>\n",
       "      <td>137858491849</td>\n",
       "    </tr>\n",
       "    <tr>\n",
       "      <th>3</th>\n",
       "      <td>4</td>\n",
       "      <td>1048576</td>\n",
       "    </tr>\n",
       "    <tr>\n",
       "      <th>4</th>\n",
       "      <td>12</td>\n",
       "      <td>61917364224</td>\n",
       "    </tr>\n",
       "  </tbody>\n",
       "</table>\n",
       "</div>"
      ],
      "text/plain": [
       "    y             z\n",
       "0   4       1048576\n",
       "1   1             1\n",
       "2  13  137858491849\n",
       "3   4       1048576\n",
       "4  12   61917364224"
      ]
     },
     "execution_count": 4,
     "metadata": {},
     "output_type": "execute_result"
    }
   ],
   "source": [
    "# non-linear dependent\n",
    "y = np.random.randint(0, 20, 500)\n",
    "z = y**10\n",
    "X_non_linear = pd.DataFrame({\n",
    "                                'y':y,\n",
    "                                'z':z,\n",
    "        }, index=np.arange(len(y)))\n",
    "X_non_linear.head()"
   ]
  },
  {
   "cell_type": "markdown",
   "metadata": {},
   "source": [
    "# Plot all"
   ]
  },
  {
   "cell_type": "code",
   "execution_count": 5,
   "metadata": {},
   "outputs": [
    {
     "data": {
      "text/plain": [
       "<matplotlib.axes._subplots.AxesSubplot at 0x7f8103b916d8>"
      ]
     },
     "execution_count": 5,
     "metadata": {},
     "output_type": "execute_result"
    },
    {
     "data": {
      "image/png": "[encoded data removed]",
      "text/plain": [
       "<Figure size 1440x1152 with 18 Axes>"
      ]
     },
     "metadata": {
      "needs_background": "light"
     },
     "output_type": "display_data"
    }
   ],
   "source": [
    "f, axes = plt.subplots(3, 3, figsize=(20,16))\n",
    "axes[0][0].set_title('Pearson for linear')\n",
    "sns.heatmap(X1.corr(method='pearson'), annot = True, ax=axes[0][0])\n",
    "\n",
    "axes[0][1].set_title('Pearson for non monotonic')\n",
    "sns.heatmap(X_non_monotonic.corr(method='pearson'), annot = True, ax=axes[0][1])\n",
    "\n",
    "axes[0][2].set_title('Pearson for non linear')\n",
    "sns.heatmap(X_non_linear.corr(method='pearson'), annot = True, ax=axes[0][2])\n",
    "\n",
    "axes[1][0].set_title('spearman for linear')\n",
    "sns.heatmap(X1.corr(method='spearman'), annot = True, ax=axes[1][0])\n",
    "\n",
    "axes[1][1].set_title('spearman for non monotonic')\n",
    "sns.heatmap(X_non_monotonic.corr(method='spearman'), annot = True, ax=axes[1][1])\n",
    "\n",
    "axes[1][2].set_title('spearman for non linear')\n",
    "sns.heatmap(X_non_linear.corr(method='spearman'), annot = True, ax=axes[1][2])\n",
    "\n",
    "axes[2][0].set_title('kendall for linear')\n",
    "sns.heatmap(X1.corr(method='kendall'), annot = True, ax=axes[2][0])\n",
    "\n",
    "axes[2][1].set_title('kendall for non monotonic')\n",
    "sns.heatmap(X_non_monotonic.corr(method='kendall'), annot = True, ax=axes[2][1])\n",
    "\n",
    "axes[2][2].set_title('kendall for non linear')\n",
    "sns.heatmap(X_non_linear.corr(method='kendall'), annot = True, ax=axes[2][2])"
   ]
  },
  {
   "cell_type": "markdown",
   "metadata": {},
   "source": [
    "# Observations\n",
    "- Kendall is worse than pearson and spearman in capturing linear correlation (left plots)\n",
    "- All three are incapable of capturing non-monotonic dependencies (middle plots)\n",
    "- Pearson is the worst in capturing non-linear correlation because it doesn't use rank (right plots). This is why it also fails to find informative correlation between ordinal features"
   ]
  }
 ],
 "metadata": {
  "kernelspec": {
   "display_name": "Python 3",
   "language": "python",
   "name": "python3"
  },
  "language_info": {
   "codemirror_mode": {
    "name": "ipython",
    "version": 3
   },
   "file_extension": ".py",
   "mimetype": "text/x-python",
   "name": "python",
   "nbconvert_exporter": "python",
   "pygments_lexer": "ipython3",
   "version": "3.7.1"
  }
 },
 "nbformat": 4,
 "nbformat_minor": 2
}
