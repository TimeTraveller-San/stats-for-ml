{
 "cells": [
  {
   "cell_type": "markdown",
   "metadata": {},
   "source": [
    "# Conditional probability"
   ]
  },
  {
   "cell_type": "markdown",
   "metadata": {},
   "source": [
    "Some events are dependent on each other. Like drawing out cards out of a deck. Getting an ace in the first draw would certainly affect the probability of getting an ace in the next draw. \n",
    "\n",
    "This is called conditional probability. Probability of the event A after event B has happened is:\n",
    "\n",
    "\n",
    "![](https://i.imgur.com/PfAXRnX.png)\n",
    "\n",
    "Further, P(A|B) = P(A) * P(B|A)"
   ]
  },
  {
   "cell_type": "markdown",
   "metadata": {},
   "source": [
    "Let's have a simple card deck with 10 cards numbered sequentially. Cards numbered 0 to 4 (both included) are red and 5 to 9 (both included) are black.\n",
    "Let us assume we have picked a black card and now we want to find the probability of picking another black card then, by conditional probability:\n",
    "\n",
    "```\n",
    "P(two blacks) = P(black) * P(black given the first card was black)\n",
    "              = 5/10 * (5-1)/(10-1)\n",
    "              = 0.5 * 0.44\n",
    "              = 0.22\n",
    "```"
   ]
  },
  {
   "cell_type": "markdown",
   "metadata": {},
   "source": [
    "Let's test the above mathematical result empirically by simulating 1 million observations"
   ]
  },
  {
   "cell_type": "code",
   "execution_count": 1,
   "metadata": {},
   "outputs": [],
   "source": [
    "import numpy as np\n",
    "\n",
    "class Deck():\n",
    "    def __init__(self, n=10):\n",
    "        self.current_deck = [card for card in range(n)]\n",
    "                \n",
    "    def random_pick(self):\n",
    "        chosen_card = np.random.choice(self.current_deck)\n",
    "        self.current_deck.remove(chosen_card)\n",
    "        color = 'black'\n",
    "        if chosen_card < 5:\n",
    "            color = 'red'\n",
    "        return chosen_card, color    "
   ]
  },
  {
   "cell_type": "code",
   "execution_count": 2,
   "metadata": {},
   "outputs": [
    {
     "name": "stdout",
     "output_type": "stream",
     "text": [
      "Conditional probablity is: 0.222156\n"
     ]
    }
   ],
   "source": [
    "N = int(1e6)\n",
    "blacks = 0\n",
    "for observation in range(N):\n",
    "    deck = Deck()\n",
    "    n1, card1 = deck.random_pick()\n",
    "    n2, card2 = deck.random_pick()\n",
    "    if card1 == 'black' and card2 == 'black':\n",
    "        blacks += 1\n",
    "P = blacks/N        \n",
    "print(f\"Conditional probablity is: {P}\")        "
   ]
  },
  {
   "cell_type": "markdown",
   "metadata": {},
   "source": [
    "# Conclusion\n",
    "The mathematically calculated probability was 0.22 and empirically it turns out to be 0.222156 which is pretty close\n"
   ]
  }
 ],
 "metadata": {
  "kernelspec": {
   "display_name": "Python 3",
   "language": "python",
   "name": "python3"
  },
  "language_info": {
   "codemirror_mode": {
    "name": "ipython",
    "version": 3
   },
   "file_extension": ".py",
   "mimetype": "text/x-python",
   "name": "python",
   "nbconvert_exporter": "python",
   "pygments_lexer": "ipython3",
   "version": "3.7.1"
  }
 },
 "nbformat": 4,
 "nbformat_minor": 2
}
