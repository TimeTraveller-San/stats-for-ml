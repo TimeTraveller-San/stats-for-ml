{
 "cells": [
  {
   "cell_type": "markdown",
   "metadata": {},
   "source": [
    "# Gambler's fallacy and probability of independent events"
   ]
  },
  {
   "cell_type": "code",
   "execution_count": 1,
   "metadata": {},
   "outputs": [],
   "source": [
    "import numpy as np"
   ]
  },
  {
   "cell_type": "markdown",
   "metadata": {},
   "source": [
    "The Gambler's Fallacy: A false belief that if something happens very frequently in a given period of time, it will happen less frequently in the future. \n",
    "Independent events don't work like this. Tossing a coin 100 times won't affect the 101th toss. This notebook is a simple showcase of gambler's policy and probability of independent events.\n",
    "\n",
    "\n",
    "If events A and B are independent then, \n",
    "\n",
    "\n",
    "P(AB) = P(A or B) = P(A) * P(B)\n",
    "\n",
    "\n",
    "*(P(X) means probability of the event X)*\n",
    "\n",
    "Let's verify this by rolling a die:"
   ]
  },
  {
   "cell_type": "code",
   "execution_count": 2,
   "metadata": {},
   "outputs": [],
   "source": [
    "class Dice():\n",
    "    def __init__(self):\n",
    "        self.outcome = None\n",
    "    \n",
    "    def roll(self, n=1):\n",
    "        self.outcome = np.random.randint(1, 7, n)\n",
    "        return self.outcome\n",
    "    \n",
    "    def reset(self):\n",
    "        self.outcome= None"
   ]
  },
  {
   "cell_type": "markdown",
   "metadata": {},
   "source": [
    "What is the probability of the event A = atleast one *six* in 10 dice rolls?\n",
    "\n",
    "\n",
    "Mathematically, \n",
    "```\n",
    "P(A) = 1 - P(A')                 (A' is the probability of not getting any six in 10 rolls)\n",
    "     = 1 - (A1 A2 A3 ..... A10)  (Ai is the probability of not getting six in ith roll)\n",
    "     = 1 - (5/6)^10\n",
    "     = 0.83849 or 83.849% \n",
    "```\n",
    "Empirically:"
   ]
  },
  {
   "cell_type": "code",
   "execution_count": 3,
   "metadata": {},
   "outputs": [
    {
     "name": "stdout",
     "output_type": "stream",
     "text": [
      "Probability of atleast 1 six in 10 rolls is: 0.837983\n"
     ]
    }
   ],
   "source": [
    "# Let's roll the dice 10 times for a million times\n",
    "dice = Dice()\n",
    "sixes = 0\n",
    "N = int(1e6)\n",
    "for i in range(N):\n",
    "    rolls = dice.roll(10)\n",
    "    if 6 in rolls:\n",
    "        sixes += 1\n",
    "P = sixes/1e6\n",
    "print(f\"Probability of atleast 1 six in 10 rolls is: {P}\")"
   ]
  },
  {
   "cell_type": "markdown",
   "metadata": {},
   "source": [
    "# Conclusion\n",
    "The mathematically calculated probability was 0.83849 and empirically it turns out to be 0.837983 which is pretty close\n",
    "Hence, not getting a six for 9 consecutive turns does not mean a higher chance of getting a six in 10th turn. \n",
    "\n",
    "**Moral: Don't fall prey to the gambler's fallacy.**"
   ]
  }
 ],
 "metadata": {
  "kernelspec": {
   "display_name": "Python 3",
   "language": "python",
   "name": "python3"
  },
  "language_info": {
   "codemirror_mode": {
    "name": "ipython",
    "version": 3
   },
   "file_extension": ".py",
   "mimetype": "text/x-python",
   "name": "python",
   "nbconvert_exporter": "python",
   "pygments_lexer": "ipython3",
   "version": "3.7.1"
  }
 },
 "nbformat": 4,
 "nbformat_minor": 2
}
