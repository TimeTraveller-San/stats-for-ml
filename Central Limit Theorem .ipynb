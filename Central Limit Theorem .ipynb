{
 "cells": [
  {
   "cell_type": "markdown",
   "metadata": {},
   "source": [
    "# Central Limit Theorem\n",
    "Quoting [Wikipedia](https://en.wikipedia.org/wiki/Central_limit_theorem#Classical_CLT): The central limit theorem (CLT) establishes that, in some situations, when independent random variables are added, their properly normalized sum tends toward a normal distribution (informally a \"bell curve\") even if the original variables themselves are not normally distributed.\n",
    "\n",
    "In simple words, if from an independent distribution a large number of random numbers are sampled again and again for a large number of times, the average of samples will form a normal distribution. \n",
    "\n"
   ]
  },
  {
   "cell_type": "markdown",
   "metadata": {},
   "source": [
    "# The Galton board\n",
    "\n",
    "The galton board (also called the beam machine) is a physical devide used to demonstrate the central limit theorem. [A picture speaks thousand words, a video would speak more.](https://upload.wikimedia.org/wikipedia/commons/transcoded/d/dc/Galton_box.webm/Galton_box.webm.480p.vp9.webm) It's too tedious to create a physical device like this, lets rather use a code to demonstrate CTL."
   ]
  },
  {
   "cell_type": "markdown",
   "metadata": {},
   "source": [
    "# The coin flip experiment\n",
    "We can test the CLT using coin flip experiment.\n",
    "\n",
    "\n",
    "The wikipedia quotes the coin flip example as follows: A simple example of this is that if one flips a coin many times the probability of getting a given number of heads in a series of flips will approach a normal curve, with mean equal to half the total number of flips in each series. \n",
    "\n",
    "Let's try to code this"
   ]
  },
  {
   "cell_type": "code",
   "execution_count": 1,
   "metadata": {},
   "outputs": [],
   "source": [
    "import numpy as np #For random choice\n",
    "import matplotlib.pyplot as plt #For plots\n",
    "from tqdm import tqdm_notebook as tqdm"
   ]
  },
  {
   "cell_type": "code",
   "execution_count": 2,
   "metadata": {},
   "outputs": [
    {
     "data": {
      "text/plain": [
       "'Tail'"
      ]
     },
     "execution_count": 2,
     "metadata": {},
     "output_type": "execute_result"
    }
   ],
   "source": [
    "coin = ['Head', 'Tail']\n",
    "np.random.choice(coin)"
   ]
  },
  {
   "cell_type": "code",
   "execution_count": 40,
   "metadata": {},
   "outputs": [
    {
     "data": {
      "application/vnd.jupyter.widget-view+json": {
       "model_id": "ab4950f63b4e40d88105ea70e370e576",
       "version_major": 2,
       "version_minor": 0
      },
      "text/plain": [
       "HBox(children=(IntProgress(value=0, max=100000), HTML(value='')))"
      ]
     },
     "metadata": {},
     "output_type": "display_data"
    },
    {
     "name": "stdout",
     "output_type": "stream",
     "text": [
      "\n"
     ]
    }
   ],
   "source": [
    "n_samples = int(10**2)\n",
    "n_observations = int(10**5)\n",
    "probs = dict(zip(np.arange(n_samples), [0]*n_samples))\n",
    "for obs in tqdm(range(n_observations)):\n",
    "    n_tails, n_heads = 0, 0\n",
    "    for s in range(n_samples):\n",
    "        outcome = np.random.choice(coin)\n",
    "        if outcome == 'Head':\n",
    "            n_heads += 1\n",
    "    probs[n_heads] += 1"
   ]
  },
  {
   "cell_type": "code",
   "execution_count": 44,
   "metadata": {
    "scrolled": true
   },
   "outputs": [
    {
     "data": {
      "image/png": "[encoded data removed]",
      "text/plain": [
       "<Figure size 720x360 with 1 Axes>"
      ]
     },
     "metadata": {
      "needs_background": "light"
     },
     "output_type": "display_data"
    }
   ],
   "source": [
    "plt.figure(figsize=(10,5))\n",
    "plt.scatter(probs.keys(), probs.values(), s=4, c='gray')\n",
    "plt.title(f'#Samples: {n_samples} | #Observations: {n_observations}')\n",
    "plt.show()"
   ]
  },
  {
   "cell_type": "markdown",
   "metadata": {},
   "source": [
    "# Here's a GIF animated for observations ranging from 0 to 10^5\n",
    "![](images/ctl.gif)\n",
    "It was created using the python script CTL_gif.py in utils"
   ]
  }
 ],
 "metadata": {
  "kernelspec": {
   "display_name": "Python 3",
   "language": "python",
   "name": "python3"
  },
  "language_info": {
   "codemirror_mode": {
    "name": "ipython",
    "version": 3
   },
   "file_extension": ".py",
   "mimetype": "text/x-python",
   "name": "python",
   "nbconvert_exporter": "python",
   "pygments_lexer": "ipython3",
   "version": "3.6.8"
  }
 },
 "nbformat": 4,
 "nbformat_minor": 2
}
