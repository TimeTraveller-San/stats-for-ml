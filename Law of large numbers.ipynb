{
 "cells": [
  {
   "cell_type": "markdown",
   "metadata": {},
   "source": [
    "# Law of large numbers (LLN)\n",
    "Average of a large number of experiments = Expected value\n",
    "\n",
    "\n",
    "This law has an application in the game roulette. A casino may lose or gain money in a single spin of roulette whell but overtime, after a large number of spins the profit will tend towards a predictable value. Unless the game is rigged, you will always make a predicted profit by opening a casino.\n",
    "\n",
    "\n",
    "So, for a dice roll the expected value of a single roll is:\n",
    "\n",
    "\n",
    "1 + 2 + 3... + 6 / 6 = 3.5\n",
    "\n",
    "\n",
    "so, according to LLN average of a large number of die roll shall be equal to 3.5. \n",
    "\n",
    "Let's test it empirically for ten thousand observations:"
   ]
  },
  {
   "cell_type": "code",
   "execution_count": 1,
   "metadata": {},
   "outputs": [],
   "source": [
    "import numpy as np\n",
    "import matplotlib.pyplot as plt"
   ]
  },
  {
   "cell_type": "code",
   "execution_count": 2,
   "metadata": {},
   "outputs": [],
   "source": [
    "class Dice():\n",
    "    def __init__(self):\n",
    "        self.outcome = None\n",
    "    \n",
    "    def roll(self, n=1):\n",
    "        self.outcome = np.random.randint(1, 7, n)\n",
    "        return self.outcome\n",
    "    \n",
    "    def reset(self):\n",
    "        self.outcome= None"
   ]
  },
  {
   "cell_type": "code",
   "execution_count": 3,
   "metadata": {},
   "outputs": [],
   "source": [
    "MAX_N = int(1e4)\n",
    "dice = Dice()\n",
    "averages = []\n",
    "for n in range(1, MAX_N):\n",
    "    rolls = dice.roll(n)\n",
    "    average = np.average(rolls)\n",
    "    averages.append(average)"
   ]
  },
  {
   "cell_type": "code",
   "execution_count": 4,
   "metadata": {},
   "outputs": [
    {
     "data": {
      "text/plain": [
       "<matplotlib.legend.Legend at 0x7ff45d305a58>"
      ]
     },
     "execution_count": 4,
     "metadata": {},
     "output_type": "execute_result"
    },
    {
     "data": {
      "image/png": "[encoded data removed]",
      "text/plain": [
       "<Figure size 432x288 with 1 Axes>"
      ]
     },
     "metadata": {
      "needs_background": "light"
     },
     "output_type": "display_data"
    }
   ],
   "source": [
    "plt.plot(averages, label='Expectation')\n",
    "plt.plot([3.5 for x in range(MAX_N)], label='Average')\n",
    "plt.legend(loc='upper right')"
   ]
  },
  {
   "cell_type": "markdown",
   "metadata": {},
   "source": [
    "# Conclusion\n",
    "Clearly the expectation (blue line) in the graph above converges the yellow line (average)"
   ]
  }
 ],
 "metadata": {
  "kernelspec": {
   "display_name": "Python 3",
   "language": "python",
   "name": "python3"
  },
  "language_info": {
   "codemirror_mode": {
    "name": "ipython",
    "version": 3
   },
   "file_extension": ".py",
   "mimetype": "text/x-python",
   "name": "python",
   "nbconvert_exporter": "python",
   "pygments_lexer": "ipython3",
   "version": "3.7.1"
  }
 },
 "nbformat": 4,
 "nbformat_minor": 2
}
